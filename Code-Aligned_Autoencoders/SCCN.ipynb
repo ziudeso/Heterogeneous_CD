{
 "cells": [
  {
   "cell_type": "code",
   "execution_count": 18,
   "metadata": {},
   "outputs": [],
   "source": [
    "import tensorflow as tf\n",
    "import datasets\n",
    "from config import get_config_SCCN"
   ]
  },
  {
   "cell_type": "code",
   "execution_count": 24,
   "metadata": {},
   "outputs": [
    {
     "output_type": "stream",
     "name": "stdout",
     "text": [
      "clipping\n"
     ]
    }
   ],
   "source": [
    "DATASET=\"Texas\"\n",
    "CONFIG = get_config_SCCN(DATASET)\n",
    "x_im, y_im, EVALUATE, (C_X, C_Y) = datasets.fetch(DATASET, **CONFIG)\n"
   ]
  },
  {
   "cell_type": "code",
   "execution_count": 31,
   "metadata": {},
   "outputs": [
    {
     "output_type": "stream",
     "name": "stdout",
     "text": [
      "(1, 154, 82, 7) (1, 154, 82, 10) 7 10\ntf.Tensor(-0.7616062, shape=(), dtype=float32)\ntf.Tensor(1.0, shape=(), dtype=float32)\n(1, 154, 82, 1)\n"
     ]
    }
   ],
   "source": [
    "#float32\n",
    "print(x_im.shape, y_im.shape, C_X, C_Y)\n",
    "print(tf.math.reduce_min(x_im))\n",
    "print(tf.math.reduce_max(x_im))\n",
    "x_im.shape[:-1]\n",
    "Pu = tf.expand_dims(tf.ones(x_im.shape[:-1], dtype=tf.float32), -1) #everyone but the last axix\n",
    "#creates an input of 1s like (1, 154, 82, 1)\n",
    "print(Pu.shape)\n"
   ]
  },
  {
   "cell_type": "code",
   "execution_count": 15,
   "metadata": {},
   "outputs": [
    {
     "output_type": "stream",
     "name": "stdout",
     "text": [
      "Reducing\n"
     ]
    }
   ],
   "source": [
    "DATASET=\"California\"\n",
    "CONFIG = get_config_SCCN(DATASET)\n",
    "x_im, y_im, EVALUATE, (C_X, C_Y) = datasets.fetch(DATASET, **CONFIG)"
   ]
  },
  {
   "cell_type": "code",
   "execution_count": 16,
   "metadata": {},
   "outputs": [
    {
     "output_type": "stream",
     "name": "stdout",
     "text": [
      "(1, 89, 50, 11) (1, 89, 50, 3) 11 3\n"
     ]
    }
   ],
   "source": [
    "print(x_im.shape, y_im.shape, C_X, C_Y)"
   ]
  },
  {
   "cell_type": "code",
   "execution_count": 23,
   "metadata": {},
   "outputs": [
    {
     "output_type": "stream",
     "name": "stdout",
     "text": [
      "tf.Tensor(-0.9776226, shape=(), dtype=float32)\ntf.Tensor(0.9987622, shape=(), dtype=float32)\n"
     ]
    }
   ],
   "source": [
    "print(tf.math.reduce_min(x_im))\n",
    "print(tf.math.reduce_max(x_im))"
   ]
  },
  {
   "cell_type": "code",
   "execution_count": null,
   "metadata": {},
   "outputs": [],
   "source": []
  }
 ],
 "metadata": {
  "kernelspec": {
   "name": "venv",
   "display_name": "Python3 (change_det_caa)",
   "language": "python"
  }
 },
 "nbformat": 4,
 "nbformat_minor": 4
}